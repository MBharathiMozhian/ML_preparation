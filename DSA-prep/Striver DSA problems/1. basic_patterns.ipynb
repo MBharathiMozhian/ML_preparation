{
 "cells": [
  {
   "cell_type": "code",
   "execution_count": 1,
   "id": "9d9b8799",
   "metadata": {},
   "outputs": [],
   "source": [
    "import pandas as pd \n",
    "import numpy as np "
   ]
  },
  {
   "cell_type": "code",
   "execution_count": 8,
   "id": "d6979ef9",
   "metadata": {},
   "outputs": [
    {
     "name": "stdout",
     "output_type": "stream",
     "text": [
      "*****\n",
      "\n",
      "****\n",
      "\n",
      "***\n",
      "\n",
      "**\n",
      "\n",
      "*\n",
      "\n"
     ]
    }
   ],
   "source": [
    "# Pattern 1\n",
    "for i in range(0,5):\n",
    "    for j in range(5-i,0,-1):\n",
    "        print(\"*\", end=\"\")\n",
    "    print(\"\\n\")"
   ]
  },
  {
   "cell_type": "code",
   "execution_count": 11,
   "id": "bf0a49f0",
   "metadata": {},
   "outputs": [
    {
     "name": "stdout",
     "output_type": "stream",
     "text": [
      "12345\n",
      "\n",
      "1234\n",
      "\n",
      "123\n",
      "\n",
      "12\n",
      "\n",
      "1\n",
      "\n"
     ]
    }
   ],
   "source": [
    "# Pattern 2\n",
    "for i in range(5,0,-1):\n",
    "    for j in range(1,i+1):\n",
    "        print(j, end=\"\")\n",
    "    print(\"\\n\")"
   ]
  },
  {
   "cell_type": "code",
   "execution_count": 21,
   "id": "65d843d1",
   "metadata": {},
   "outputs": [
    {
     "name": "stdout",
     "output_type": "stream",
     "text": [
      "    *    \n",
      "\n",
      "   ***   \n",
      "\n",
      "  *****  \n",
      "\n",
      " ******* \n",
      "\n",
      "*********\n",
      "\n"
     ]
    }
   ],
   "source": [
    "# Pattern 3 \n",
    "n = 5\n",
    "for i in range(0,n):\n",
    "    for j in range(1,2*n):\n",
    "        if j >= n-i and j <= n+i:\n",
    "            print(\"*\", end=\"\")\n",
    "        else: \n",
    "            print(\" \", end=\"\")\n",
    "    print(\"\\n\")"
   ]
  },
  {
   "cell_type": "code",
   "execution_count": 24,
   "id": "45df6b4e",
   "metadata": {},
   "outputs": [
    {
     "name": "stdout",
     "output_type": "stream",
     "text": [
      "***********\n",
      "\n",
      " ********* \n",
      "\n",
      "  *******  \n",
      "\n",
      "   *****   \n",
      "\n",
      "    ***    \n",
      "\n",
      "     *     \n",
      "\n"
     ]
    }
   ],
   "source": [
    "# Pattern 4 \n",
    "n = 6\n",
    "for i in range(n-1,-1,-1):\n",
    "    for j in range(0,2*n-1):\n",
    "        if  j>=n-1-i and j<=n-1+i:\n",
    "            print(\"*\", end=\"\")\n",
    "        else: \n",
    "            print(\" \",end=\"\")\n",
    "    print(\"\\n\")"
   ]
  },
  {
   "cell_type": "code",
   "execution_count": 25,
   "id": "89734da7",
   "metadata": {},
   "outputs": [
    {
     "name": "stdout",
     "output_type": "stream",
     "text": [
      "    *    \n",
      "\n",
      "   ***   \n",
      "\n",
      "  *****  \n",
      "\n",
      " ******* \n",
      "\n",
      "*********\n",
      "\n",
      "*********\n",
      "\n",
      " ******* \n",
      "\n",
      "  *****  \n",
      "\n",
      "   ***   \n",
      "\n",
      "    *    \n",
      "\n"
     ]
    }
   ],
   "source": [
    "# Pattern 5\n",
    "n = 5\n",
    "for i in range(0,n):\n",
    "    for j in range(1,2*n):\n",
    "        if j>=n-i and j<=n+i:\n",
    "            print(\"*\",end=\"\")\n",
    "        else:\n",
    "            print(\" \",end=\"\")\n",
    "    print(\"\\n\")\n",
    "\n",
    "for i in range(n-1,-1,-1):\n",
    "    for j in range(1,2*n):\n",
    "        if j>=n-i and j<=n+i:\n",
    "            print(\"*\",end=\"\")\n",
    "        else: \n",
    "            print(\" \",end=\"\")\n",
    "    print(\"\\n\")\n",
    "        "
   ]
  },
  {
   "cell_type": "code",
   "execution_count": 29,
   "id": "78a1d41f",
   "metadata": {},
   "outputs": [
    {
     "name": "stdout",
     "output_type": "stream",
     "text": [
      "*\n",
      "\n",
      "**\n",
      "\n",
      "***\n",
      "\n",
      "****\n",
      "\n",
      "***\n",
      "\n",
      "**\n",
      "\n",
      "*\n",
      "\n"
     ]
    }
   ],
   "source": [
    "# Pattern 6\n",
    "n = 4\n",
    "for i in range(1,2*n):\n",
    "    x = i if i<=n else 2*n-i\n",
    "    for j in range(1,x+1):\n",
    "        print(\"*\",end=\"\")\n",
    "    print(\"\\n\")\n",
    "    "
   ]
  },
  {
   "cell_type": "code",
   "execution_count": 30,
   "id": "3c8ca0a3",
   "metadata": {},
   "outputs": [
    {
     "name": "stdout",
     "output_type": "stream",
     "text": [
      "1\n",
      "\n",
      "01\n",
      "\n",
      "101\n",
      "\n",
      "0101\n",
      "\n",
      "10101\n",
      "\n"
     ]
    }
   ],
   "source": [
    "# Pattern 7\n",
    "n = 5 \n",
    "for i in range(1,n+1):\n",
    "    for j in range(1,i+1):\n",
    "        if i%2==1 and j%2==1:\n",
    "            print(1,end=\"\")\n",
    "        elif i%2==1 and j%2==0:\n",
    "            print(0,end=\"\")\n",
    "        elif i%2==0 and j%2==0:\n",
    "            print(1,end=\"\") \n",
    "        else: \n",
    "            print(0,end=\"\")\n",
    "    print(\"\\n\")"
   ]
  },
  {
   "cell_type": "code",
   "execution_count": 33,
   "id": "d56e367a",
   "metadata": {},
   "outputs": [
    {
     "name": "stdout",
     "output_type": "stream",
     "text": [
      "1        1\n",
      "\n",
      "12      21\n",
      "\n",
      "123    321\n",
      "\n",
      "1234  4321\n",
      "\n",
      "1234554321\n",
      "\n"
     ]
    }
   ],
   "source": [
    "# Pattern 8\n",
    "n = 6\n",
    "for i in range(1,n):\n",
    "    for j in range(1,2*n-1):\n",
    "        if j <= i:\n",
    "            print(j, end=\"\")\n",
    "        elif j >= 2*n-1-i:\n",
    "            print(2*n-1-j, end=\"\")\n",
    "        else: \n",
    "            print(\" \", end=\"\")\n",
    "    print(\"\\n\")"
   ]
  },
  {
   "cell_type": "code",
   "execution_count": 37,
   "id": "acd49b72",
   "metadata": {},
   "outputs": [
    {
     "name": "stdout",
     "output_type": "stream",
     "text": [
      "1 \n",
      "\n",
      "2 3 \n",
      "\n",
      "4 5 6 \n",
      "\n",
      "7 8 9 10 \n",
      "\n",
      "11 12 13 14 15 \n",
      "\n"
     ]
    }
   ],
   "source": [
    "# Pattern 9\n",
    "n = 5 \n",
    "num = 1 \n",
    "for i in range(0,5):\n",
    "    for j in range(0,i+1):\n",
    "        print(num, end=\" \") \n",
    "        num += 1 \n",
    "    print(\"\\n\")"
   ]
  },
  {
   "cell_type": "code",
   "execution_count": 54,
   "id": "33ce903b",
   "metadata": {},
   "outputs": [
    {
     "name": "stdout",
     "output_type": "stream",
     "text": [
      "\n",
      "\n",
      "A \n",
      "\n",
      "A B \n",
      "\n",
      "A B C \n",
      "\n",
      "A B C D \n",
      "\n",
      "A B C D E \n",
      "\n"
     ]
    }
   ],
   "source": [
    "# Pattern 10 \n",
    "n = 5 \n",
    "c = \"A\"\n",
    "for i in range(0,n+1):\n",
    "    for j in range(ord('A'),ord('A')+i):\n",
    "        print(chr(j), end=\" \")\n",
    "    print(\"\\n\")"
   ]
  },
  {
   "cell_type": "code",
   "execution_count": 56,
   "id": "a1aee47d",
   "metadata": {},
   "outputs": [
    {
     "name": "stdout",
     "output_type": "stream",
     "text": [
      "A B C D E \n",
      "\n",
      "A B C D \n",
      "\n",
      "A B C \n",
      "\n",
      "A B \n",
      "\n",
      "A \n",
      "\n"
     ]
    }
   ],
   "source": [
    "# Pattern 11 \n",
    "n = 5 \n",
    "for i in range(n,0,-1):\n",
    "    for j in range(ord('A'),ord('A')+i):\n",
    "        print(chr(j), end=\" \")\n",
    "    print(\"\\n\")"
   ]
  },
  {
   "cell_type": "code",
   "execution_count": 57,
   "id": "335380e3",
   "metadata": {},
   "outputs": [
    {
     "name": "stdout",
     "output_type": "stream",
     "text": [
      "A \n",
      "\n",
      "B B \n",
      "\n",
      "C C C \n",
      "\n",
      "D D D D \n",
      "\n",
      "E E E E E \n",
      "\n"
     ]
    }
   ],
   "source": [
    "# Pattern 12\n",
    "n = 5 \n",
    "for i in range(0,n):\n",
    "    for j in range(i+1):\n",
    "        print(chr(ord('A')+i), end=\" \")\n",
    "    print(\"\\n\")"
   ]
  },
  {
   "cell_type": "code",
   "execution_count": 58,
   "id": "a7ab0fa1",
   "metadata": {},
   "outputs": [
    {
     "name": "stdout",
     "output_type": "stream",
     "text": [
      "      A       \n",
      "\n",
      "    B A B     \n",
      "\n",
      "  C B A B C   \n",
      "\n",
      "D C B A B C D \n",
      "\n"
     ]
    }
   ],
   "source": [
    "# Pattern 13 \n",
    "n = 4 \n",
    "for i in range(0,n):\n",
    "    for j in range(1,2*n):\n",
    "        if j>=n-i and j<=n+i:\n",
    "            print(chr(ord('A')+abs(n-j)), end=\" \") \n",
    "        else: \n",
    "            print(\" \", end=\" \")\n",
    "    print(\"\\n\")"
   ]
  },
  {
   "cell_type": "code",
   "execution_count": null,
   "id": "b82ee0f4",
   "metadata": {},
   "outputs": [
    {
     "name": "stdout",
     "output_type": "stream",
     "text": [
      "      A       \n",
      "\n",
      "    A B A     \n",
      "\n",
      "  A B C B A   \n",
      "\n",
      "A B C D C B A \n",
      "\n"
     ]
    }
   ],
   "source": [
    "# Pattern 14\n",
    "n = 4 \n",
    "for i in range(0,n):\n",
    "    k = ord('A')\n",
    "    for j in range(1,2*n):\n",
    "        if j>=n-i and j<=n+i:\n",
    "            print(chr(k), end=\" \")\n",
    "            if j < n:\n",
    "                k +=1 \n",
    "            else: \n",
    "                k -= 1\n",
    "        else: \n",
    "            print(\" \", end=\" \") \n",
    "    print(\"\\n\")\n",
    "        \n",
    "        \n",
    "        \n",
    "            "
   ]
  },
  {
   "cell_type": "code",
   "execution_count": 7,
   "id": "7df822c9",
   "metadata": {},
   "outputs": [
    {
     "name": "stdout",
     "output_type": "stream",
     "text": [
      "E         \n",
      "\n",
      "D E       \n",
      "\n",
      "C D E     \n",
      "\n",
      "B C D E   \n",
      "\n",
      "A B C D E \n",
      "\n"
     ]
    }
   ],
   "source": [
    "# Pattern 15\n",
    "n = 5 \n",
    "for i in range(1,n+1):\n",
    "    r = ord('E')-i+1\n",
    "    for j in range(1,n+1):\n",
    "        if j>i: \n",
    "            print(\" \", end=\" \")\n",
    "        elif j<= i: \n",
    "            print(chr(r), end= \" \")\n",
    "            r = r+1\n",
    "    print(\"\\n\")"
   ]
  },
  {
   "cell_type": "code",
   "execution_count": null,
   "id": "9ddfd126",
   "metadata": {},
   "outputs": [
    {
     "name": "stdout",
     "output_type": "stream",
     "text": [
      "* * * * * * * * * * \n",
      "\n",
      "* * * *     * * * * \n",
      "\n",
      "* * *         * * * \n",
      "\n",
      "* *             * * \n",
      "\n",
      "*                 * \n",
      "\n",
      "*                 * \n",
      "\n",
      "* *             * * \n",
      "\n",
      "* * *         * * * \n",
      "\n",
      "* * * *     * * * * \n",
      "\n",
      "* * * * * * * * * * \n",
      "\n"
     ]
    }
   ],
   "source": [
    "# Pattern 16\n",
    "n = 5\n",
    "for i in range(0,n): \n",
    "    for j in range(0,n):\n",
    "        if j<=n-i:\n",
    "            print(\" \", end=\" \")\n",
    "        else: \n",
    "            print(\"*\", end=\" \")\n",
    "    \n",
    "    for j in range(0,n):\n",
    "        if j<i:\n",
    "            print(\" \", end=\" \")\n",
    "        else: \n",
    "            print(\"*\", end=\" \")\n",
    "    print(\"\\n\")\n",
    "\n",
    "for i in range(0,n): \n",
    "    for j in range(0,n):\n",
    "        if j<=i:\n",
    "            print(\"*\", end=\" \")\n",
    "        else: \n",
    "            print(\" \", end=\" \")\n",
    "    \n",
    "    for j in range(0,n):\n",
    "        if j>=n-i-1:\n",
    "            print(\"*\", end=\" \")\n",
    "        else: \n",
    "            print(\" \", end=\" \")\n",
    "    print(\"\\n\")"
   ]
  },
  {
   "cell_type": "code",
   "execution_count": 17,
   "id": "3f102cfc",
   "metadata": {},
   "outputs": [
    {
     "name": "stdout",
     "output_type": "stream",
     "text": [
      "*                 * \n",
      "\n",
      "* *             * * \n",
      "\n",
      "* * *         * * * \n",
      "\n",
      "* * * *     * * * * \n",
      "\n",
      "* * * * * * * * * * \n",
      "\n",
      "* * * *     * * * * \n",
      "\n",
      "* * *         * * * \n",
      "\n",
      "* *             * * \n",
      "\n",
      "*                 * \n",
      "\n"
     ]
    }
   ],
   "source": [
    "# Pattern 17\n",
    "n = 5 \n",
    "for i in range(1,2*n): \n",
    "    if i <= n: \n",
    "        k = i \n",
    "    if i > n: \n",
    "        k = 2*n-i\n",
    "    for j in range(1,n+1):\n",
    "        if j <= k: \n",
    "            print(\"*\", end=\" \")\n",
    "        else: \n",
    "            print(\" \", end=\" \")\n",
    "    for j in range(1,n+1):\n",
    "        if j>=n+1-k:\n",
    "            print(\"*\", end=\" \")\n",
    "        else: \n",
    "            print(\" \", end=\" \")\n",
    "    print(\"\\n\")\n",
    "    "
   ]
  },
  {
   "cell_type": "code",
   "execution_count": 20,
   "id": "b3e8103b",
   "metadata": {},
   "outputs": [
    {
     "name": "stdout",
     "output_type": "stream",
     "text": [
      "* * * * * \n",
      "\n",
      "*       * \n",
      "\n",
      "*       * \n",
      "\n",
      "*       * \n",
      "\n",
      "* * * * * \n",
      "\n"
     ]
    }
   ],
   "source": [
    "# Pattern 18 \n",
    "n = 5\n",
    "for i in range(1,n+1): \n",
    "    for j in range(1,n+1): \n",
    "        if i==1 or i==n or j==1 or j==n: \n",
    "            print(\"*\", end=\" \")\n",
    "        else: \n",
    "            print(\" \", end=\" \")\n",
    "    print(\"\\n\")"
   ]
  },
  {
   "cell_type": "code",
   "execution_count": 24,
   "id": "a50bbbf6",
   "metadata": {},
   "outputs": [
    {
     "name": "stdout",
     "output_type": "stream",
     "text": [
      "4 4 4 4 4 4 4 \n",
      "\n",
      "4 3 3 3 3 3 4 \n",
      "\n",
      "4 3 2 2 2 3 4 \n",
      "\n",
      "4 3 2 1 2 3 4 \n",
      "\n",
      "4 3 2 2 2 3 4 \n",
      "\n",
      "4 3 3 3 3 3 4 \n",
      "\n",
      "4 4 4 4 4 4 4 \n",
      "\n"
     ]
    }
   ],
   "source": [
    "# Pattern 19 \n",
    "n = 4 \n",
    "k = 1\n",
    "for i in range(1,2*n):\n",
    "    k = n \n",
    "    if i<=n:\n",
    "        r = i \n",
    "    if i>n: \n",
    "        r = 2*n-i\n",
    "    for j in range(1,2*n): \n",
    "        if j>=r and j<=2*n-r:\n",
    "            print(k, end=\" \")\n",
    "        if j<r: \n",
    "            print(k, end=\" \")\n",
    "            k -= 1 \n",
    "        if j>2*n-r:\n",
    "            k +=1 \n",
    "            print(k, end=\" \")\n",
    "    print(\"\\n\")\n",
    "    "
   ]
  },
  {
   "cell_type": "code",
   "execution_count": null,
   "id": "9e727b36",
   "metadata": {},
   "outputs": [],
   "source": []
  }
 ],
 "metadata": {
  "kernelspec": {
   "display_name": "Python 3",
   "language": "python",
   "name": "python3"
  },
  "language_info": {
   "codemirror_mode": {
    "name": "ipython",
    "version": 3
   },
   "file_extension": ".py",
   "mimetype": "text/x-python",
   "name": "python",
   "nbconvert_exporter": "python",
   "pygments_lexer": "ipython3",
   "version": "3.12.3"
  }
 },
 "nbformat": 4,
 "nbformat_minor": 5
}
